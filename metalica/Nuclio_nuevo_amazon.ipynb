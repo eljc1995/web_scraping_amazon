{
 "cells": [
  {
   "cell_type": "code",
   "execution_count": 4,
   "metadata": {},
   "outputs": [
    {
     "name": "stderr",
     "output_type": "stream",
     "text": [
      "[WDM] - ====== WebDriver manager ======\n"
     ]
    },
    {
     "name": "stdout",
     "output_type": "stream",
     "text": [
      "\n",
      "\n"
     ]
    },
    {
     "name": "stderr",
     "output_type": "stream",
     "text": [
      "[WDM] - Current google-chrome version is 96.0.4664\n",
      "[WDM] - Get LATEST driver version for 96.0.4664\n",
      "[WDM] - Driver [/Users/josephgallart/.wdm/drivers/chromedriver/mac64/96.0.4664.45/chromedriver] found in cache\n"
     ]
    }
   ],
   "source": [
    "from selenium import webdriver\n",
    "from bs4 import BeautifulSoup\n",
    "import pandas as pd\n",
    "import time\n",
    "import os\n",
    "from os.path import basename\n",
    "import requests\n",
    "from webdriver_manager.chrome import ChromeDriverManager\n",
    "driver  = webdriver.Chrome(ChromeDriverManager().install())"
   ]
  },
  {
   "cell_type": "code",
   "execution_count": 5,
   "metadata": {},
   "outputs": [],
   "source": [
    "driver.get(\"http://www.amazon.es\")"
   ]
  },
  {
   "cell_type": "code",
   "execution_count": 12,
   "metadata": {},
   "outputs": [],
   "source": [
    "driver.find_element_by_name(\"accept\").click()"
   ]
  },
  {
   "cell_type": "code",
   "execution_count": 16,
   "metadata": {},
   "outputs": [],
   "source": [
    "driver.find_elements_by_id(\"twotabsearchtextbox\")[0].send_keys(\"Iphone\")"
   ]
  },
  {
   "cell_type": "code",
   "execution_count": 17,
   "metadata": {},
   "outputs": [],
   "source": [
    "driver.find_elements_by_id(\"twotabsearchtextbox\")[0].submit()"
   ]
  },
  {
   "cell_type": "code",
   "execution_count": 56,
   "metadata": {},
   "outputs": [],
   "source": [
    "keyword=\"Metallica\""
   ]
  },
  {
   "cell_type": "code",
   "execution_count": 57,
   "metadata": {},
   "outputs": [],
   "source": [
    "driver.get(\"https://www.amazon.es/s?k=\"+keyword)"
   ]
  },
  {
   "cell_type": "code",
   "execution_count": 58,
   "metadata": {},
   "outputs": [],
   "source": [
    "content = driver.page_source"
   ]
  },
  {
   "cell_type": "code",
   "execution_count": 59,
   "metadata": {},
   "outputs": [],
   "source": [
    "soup= BeautifulSoup(content)"
   ]
  },
  {
   "cell_type": "code",
   "execution_count": 60,
   "metadata": {},
   "outputs": [],
   "source": [
    "resultado = soup.findAll(class_ = \"a-section a-spacing-medium\")"
   ]
  },
  {
   "cell_type": "code",
   "execution_count": null,
   "metadata": {},
   "outputs": [],
   "source": []
  },
  {
   "cell_type": "code",
   "execution_count": 61,
   "metadata": {},
   "outputs": [],
   "source": [
    "df_lista_productos = pd.DataFrame(columns=[\"titulo\",\"precio\",\"imagen\"])"
   ]
  },
  {
   "cell_type": "code",
   "execution_count": 62,
   "metadata": {},
   "outputs": [],
   "source": [
    "if not os.path.exists(\"Fotos \"+keyword):\n",
    "    os.makedirs(\"Fotos \"+keyword)"
   ]
  },
  {
   "cell_type": "code",
   "execution_count": 63,
   "metadata": {},
   "outputs": [],
   "source": [
    "carpeta = \"Fotos \"+keyword+\"/\""
   ]
  },
  {
   "cell_type": "code",
   "execution_count": 64,
   "metadata": {},
   "outputs": [],
   "source": [
    "df_lista_productos = pd.DataFrame(columns=[\"titulo\",\"precio\",\"imagen\"])\n",
    "for i in resultado:\n",
    "    titulo_producto = i.find(class_ = \"a-size-base-plus a-color-base a-text-normal\").get_text()\n",
    "    precio_producto = i.find(class_ = \"a-price-whole\")\n",
    "    imagen_producto = i.find(\"img\")\n",
    "    if precio_producto != None:\n",
    "        precio_producto=precio_producto.get_text()\n",
    "    else:\n",
    "        precio_producto=\"No existe precio\"\n",
    "    \n",
    "    fichero = open(carpeta+basename(imagen_producto.attrs[\"src\"]),\"wb\")\n",
    "    fichero.write(requests.get(imagen_producto.attrs[\"src\"]).content)\n",
    "\n",
    "    df_lista_productos = df_lista_productos.append({\"titulo\":titulo_producto,\n",
    "                                                     \"precio\": precio_producto,\n",
    "                                                     \"imagen\": \"<img src='\"+imagen_producto.attrs[\"src\"]+\"'>\"},ignore_index=True)\n",
    "\n"
   ]
  },
  {
   "cell_type": "code",
   "execution_count": 65,
   "metadata": {},
   "outputs": [],
   "source": [
    "df_lista_productos.to_csv(keyword+\".csv\")\n",
    "df_lista_productos.to_html(keyword+\".html\", escape=False)"
   ]
  },
  {
   "cell_type": "code",
   "execution_count": null,
   "metadata": {},
   "outputs": [],
   "source": []
  }
 ],
 "metadata": {
  "interpreter": {
   "hash": "97d601eecc8ec34269f201b6cef4b47946a4283306dca377a235ae3822c0e5ab"
  },
  "kernelspec": {
   "display_name": "Python 3.8.5 64-bit ('base': conda)",
   "language": "python",
   "name": "python3"
  },
  "language_info": {
   "codemirror_mode": {
    "name": "ipython",
    "version": 3
   },
   "file_extension": ".py",
   "mimetype": "text/x-python",
   "name": "python",
   "nbconvert_exporter": "python",
   "pygments_lexer": "ipython3",
   "version": "3.8.5"
  },
  "orig_nbformat": 4
 },
 "nbformat": 4,
 "nbformat_minor": 2
}
