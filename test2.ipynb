{
 "cells": [
  {
   "cell_type": "code",
   "execution_count": null,
   "metadata": {},
   "outputs": [],
   "source": [
    "from selenium import webdriver\n",
    "from bs4 import BeautifulSoup\n",
    "import pandas as pd\n",
    "import time\n",
    "import os\n",
    "from os.path import basename\n",
    "import requests\n",
    "from webdriver_manager.chrome import ChromeDriverManager\n",
    "driver  = webdriver.Chrome(ChromeDriverManager().install())\n",
    "\n",
    "\n",
    "\n"
   ]
  },
  {
   "cell_type": "code",
   "execution_count": null,
   "metadata": {},
   "outputs": [],
   "source": [
    "!pip install selenium\n",
    "!pip install pandas\n",
    "!pip install bs4\n",
    "!pip install webdriver_manager\n"
   ]
  },
  {
   "cell_type": "code",
   "execution_count": 63,
   "metadata": {},
   "outputs": [],
   "source": [
    "#entramos a amazon.es\n",
    "driver.get('http:amazon.es')"
   ]
  },
  {
   "cell_type": "code",
   "execution_count": null,
   "metadata": {},
   "outputs": [],
   "source": [
    "#aceptamos las cookies\n",
    "driver.find_element_by_name('accept').click()"
   ]
  },
  {
   "cell_type": "code",
   "execution_count": 76,
   "metadata": {},
   "outputs": [
    {
     "name": "stderr",
     "output_type": "stream",
     "text": [
      "C:\\Users\\USUARIO\\AppData\\Local\\Temp/ipykernel_14672/3442902271.py:2: DeprecationWarning: find_elements_by_* commands are deprecated. Please use find_elements() instead\n",
      "  driver.find_elements_by_id(\"twotabsearchtextbox\")[0].send_keys(\"Iphone\")\n"
     ]
    }
   ],
   "source": [
    "#escribimos en el buscador la palabra 'Iphone'\n",
    "driver.find_elements_by_id(\"twotabsearchtextbox\")[0].send_keys(\"Iphone\")"
   ]
  },
  {
   "cell_type": "code",
   "execution_count": 65,
   "metadata": {},
   "outputs": [
    {
     "name": "stderr",
     "output_type": "stream",
     "text": [
      "C:\\Users\\USUARIO\\AppData\\Local\\Temp/ipykernel_14672/3093474211.py:1: DeprecationWarning: find_elements_by_* commands are deprecated. Please use find_elements() instead\n",
      "  driver.find_elements_by_id(\"twotabsearchtextbox\")[0].submit()\n"
     ]
    }
   ],
   "source": [
    "#enviamos la palabra 'le damos a buscar'\n",
    "driver.find_elements_by_id(\"twotabsearchtextbox\")[0].submit()"
   ]
  },
  {
   "cell_type": "code",
   "execution_count": 66,
   "metadata": {},
   "outputs": [],
   "source": [
    "#varible que usaremos para buscar diferentes productos,\n",
    "#cambiando la variable buscamos otro producto\n",
    "keyword=\"Iphone\""
   ]
  },
  {
   "cell_type": "code",
   "execution_count": 67,
   "metadata": {},
   "outputs": [],
   "source": [
    "#buscamos a traves de la url, pasando como parametro la variable\n",
    "#previamente definida \n",
    "driver.get(\"https://www.amazon.es/s?k=\"+keyword)"
   ]
  },
  {
   "cell_type": "code",
   "execution_count": 68,
   "metadata": {},
   "outputs": [],
   "source": [
    "#creamos una variable de conexión con la url de la página\n",
    "content = driver.page_source"
   ]
  },
  {
   "cell_type": "code",
   "execution_count": 69,
   "metadata": {},
   "outputs": [],
   "source": [
    "#descargamos la pagina \n",
    "soup= BeautifulSoup(content)"
   ]
  },
  {
   "cell_type": "code",
   "execution_count": 70,
   "metadata": {},
   "outputs": [],
   "source": [
    "#buscamos un elemento en la pagina con la classe 'a-section a-spacing-medium'\n",
    "resultado = soup.findAll(class_ = \"a-section a-spacing-medium\")"
   ]
  },
  {
   "cell_type": "code",
   "execution_count": 71,
   "metadata": {},
   "outputs": [],
   "source": [
    "#creamos un data frame con los elementos titulo,precio e imagen, \n",
    "#que luego llenaremos con los datos de la pagina\n",
    "df_lista_productos = pd.DataFrame(columns=[\"titulo\",\"precio\",\"imagen\"])"
   ]
  },
  {
   "cell_type": "code",
   "execution_count": 72,
   "metadata": {},
   "outputs": [],
   "source": [
    "#le decimos que usando la ruta actual de donde se ejecuta\n",
    "#este fichero, cre un directorio llamado Fotos + la palabra\n",
    "#clave de busqueda, si no existe ya.\n",
    "\n",
    "if not os.path.exists(\"Fotos \"+keyword):\n",
    "    os.makedirs(\"Fotos \"+keyword)"
   ]
  },
  {
   "cell_type": "code",
   "execution_count": 73,
   "metadata": {},
   "outputs": [],
   "source": [
    "#asignamos la variable carpeta el nombre del directorio,donde\n",
    "#se guardarán las fotos\n",
    "carpeta = \"Fotos \"+keyword+\"/\""
   ]
  },
  {
   "cell_type": "code",
   "execution_count": 74,
   "metadata": {},
   "outputs": [],
   "source": [
    "df_lista_productos = pd.DataFrame(columns=[\"titulo\",\"precio\",\"imagen\"])\n",
    "\n",
    "#creamos un boocle que recore la variable resultado y saca los elementos\n",
    "# nombre de producto,precio y imagen, luego los introduce en el data frame\n",
    "for i in resultado:\n",
    "    titulo_producto = i.find(class_ = \"a-size-base-plus a-color-base a-text-normal\").get_text()\n",
    "    precio_producto = i.find(class_ = \"a-price-whole\")\n",
    "    imagen_producto = i.find(\"img\")\n",
    "    if precio_producto != None:\n",
    "        precio_producto=precio_producto.get_text()\n",
    "    else:\n",
    "        precio_producto=\"No existe precio\"\n",
    "    \n",
    "    fichero = open(carpeta+basename(imagen_producto.attrs[\"src\"]),\"wb\")\n",
    "    fichero.write(requests.get(imagen_producto.attrs[\"src\"]).content)\n",
    "\n",
    "    df_lista_productos = df_lista_productos.append({\"titulo\":titulo_producto,\n",
    "                                                     \"precio\": precio_producto,\n",
    "                                                     \"imagen\": \"<img src='\"+imagen_producto.attrs[\"src\"]+\"'>\"},ignore_index=True)"
   ]
  },
  {
   "cell_type": "code",
   "execution_count": 75,
   "metadata": {},
   "outputs": [],
   "source": [
    "#creamos un archivo csv a partir del dataframe del iphone\n",
    "#tambien comvertimos el df en una tabla que podemos\n",
    "#como html\n",
    "\n",
    "df_lista_productos.to_csv(keyword+\".csv\")\n",
    "df_lista_productos.to_html(keyword+\".html\", escape=False)"
   ]
  },
  {
   "cell_type": "code",
   "execution_count": null,
   "metadata": {},
   "outputs": [],
   "source": []
  },
  {
   "cell_type": "code",
   "execution_count": null,
   "metadata": {},
   "outputs": [],
   "source": []
  }
 ],
 "metadata": {
  "interpreter": {
   "hash": "e64b1cb8d5f886d465c552ea9f517557d29d1eaa50f8e3cb5214dda08bc8a661"
  },
  "kernelspec": {
   "display_name": "Python 3.9.9 64-bit (windows store)",
   "language": "python",
   "name": "python3"
  },
  "language_info": {
   "codemirror_mode": {
    "name": "ipython",
    "version": 3
   },
   "file_extension": ".py",
   "mimetype": "text/x-python",
   "name": "python",
   "nbconvert_exporter": "python",
   "pygments_lexer": "ipython3",
   "version": "3.9.9"
  },
  "orig_nbformat": 4
 },
 "nbformat": 4,
 "nbformat_minor": 2
}
